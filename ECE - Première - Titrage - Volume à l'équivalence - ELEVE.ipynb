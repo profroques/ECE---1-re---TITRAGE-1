{
 "cells": [
  {
   "cell_type": "markdown",
   "metadata": {},
   "source": [
    "<h1> INTERFACE - ECE Titrage - 1ère Spé PhyChim</h1>"
   ]
  },
  {
   "cell_type": "markdown",
   "metadata": {},
   "source": [
    "<div class=\"panel panel-primary\">\n",
    "    <div class=\"panel-heading\"><h2>Préambule :</h2></div>\n",
    "      <div class=\"panel-body\">\n",
    "Dans cette interface, vous allez découvrir des blocs de code qui composent un programme informatique complet.\n",
    "\n",
    "Ce programme a pour but de calculer la concentration d'une solution \"commerciale\" titrée par un réactif titrant de concentration connue et dont on a déterminé le volume versé à l'équivalence.\n",
    "\n",
    "Le programme est décomposé en deux blocs pour lequel vous pouvez appeler un.e enseignant.e en cas de blocage.\n",
    "      </div>\n",
    "</div>"
   ]
  },
  {
   "cell_type": "markdown",
   "metadata": {},
   "source": [
    "<div class=\"alert alert-info\" role=\"alert\">\n",
    "\n",
    "<b>Informations pour exécuter un bloc de programme informatique : </b> <br>\n",
    "<br><br>Remplacer les mentions \"------A COMPLÉTER-----\" par les valeurs chiffrées adaptées pour a, b, V_A et C_B.\n",
    "<br>\n",
    "    <br>\n",
    "    <b>ATTENTION : LA VIRGULE DANS UN NOMBRE DECIMAL EST REMPLACEE PAR UN POINT !!!!<\\br>\n",
    "    <br><b>ATTENTION : Une fois le programme complété, il faut alors exécuter le bloc de code correspondant.</b>\n",
    "</div>"
   ]
  },
  {
   "cell_type": "code",
   "execution_count": null,
   "metadata": {
    "scrolled": true
   },
   "outputs": [],
   "source": [
    "a=------A COMPLÉTER-----\n",
    "b=------A COMPLÉTER-----\n",
    "V_A =------A COMPLÉTER-----  # Exprimer le volume en mL\n",
    "C_B=------A COMPLÉTER-----\n",
    "V_E=9.0 # La valeur est exprimée en mL\n",
    "\n",
    "\n",
    "print(\"Le nombre stoechiométrique du réactif titré est \",a)\n",
    "print(\"Le nombre stoechiométrique du réactif titrant est \",b)\n",
    "print(\"La valeur de la concentration C_B est \",C_B,\" mol/L\")\n",
    "print(\"La valeur théorique du volume versé du titrant à l'équivalence vaut (en mL)\",V_E,\" mL\")\n"
   ]
  },
  {
   "cell_type": "markdown",
   "metadata": {},
   "source": [
    "<div class=\"alert alert-warning\">\n",
    "<b>Informations pour compléter un bloc de programme informatique: </b> <br>\n",
    "Remplacer la première mention \"------A COMPLÉTER-----\" par l'expression littérale adaptée pour calculer C_A.\n",
    "<br><br>\n",
    "Remplacer la deuxième mention \"------A COMPLÉTER-----\" par l'expression littérale adaptée pour calculer C_theo eb tenant compte du facteur de dilution.\n",
    "    \n",
    "<br><b>ATTENTION : Une fois le programme complété, il faut alors exécuter le bloc de code correspondant.</b>\n",
    "</div>"
   ]
  },
  {
   "cell_type": "code",
   "execution_count": null,
   "metadata": {},
   "outputs": [],
   "source": [
    "C_A=------A COMPLÉTER-----\n",
    "C_theo=------A COMPLÉTER-----\n",
    "print(\"La valeur de la concentration de la solution diluée du titré C_A est \",C_A,\" mol/L\")\n",
    "print(\"La valeur de la concentration de la solution commerciale du titré C_theo est \",C_theo,\" mol/L\")\n"
   ]
  },
  {
   "cell_type": "code",
   "execution_count": null,
   "metadata": {},
   "outputs": [],
   "source": []
  }
 ],
 "metadata": {
  "kernelspec": {
   "display_name": "Python 3",
   "language": "python",
   "name": "python3"
  },
  "language_info": {
   "codemirror_mode": {
    "name": "ipython",
    "version": 3
   },
   "file_extension": ".py",
   "mimetype": "text/x-python",
   "name": "python",
   "nbconvert_exporter": "python",
   "pygments_lexer": "ipython3",
   "version": "3.7.4"
  }
 },
 "nbformat": 4,
 "nbformat_minor": 2
}
